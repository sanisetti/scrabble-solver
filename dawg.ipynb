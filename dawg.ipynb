{
 "cells": [
  {
   "cell_type": "code",
   "execution_count": 2,
   "metadata": {},
   "outputs": [],
   "source": [
    "class dawgNode:\n",
    "    def __init__(self, edges=[], termNode=0):\n",
    "        self.edges = edges\n",
    "        self.termNode = termNode\n",
    "class dawgEdge:\n",
    "    def __init__(self, letter, endNode):\n",
    "        self.letter = letter\n",
    "        self.endNode = endNode"
   ]
  },
  {
   "cell_type": "code",
   "execution_count": null,
   "metadata": {
    "collapsed": true
   },
   "outputs": [],
   "source": [
    "def dawgConstructor(node, line, i):\n",
    "    if (i >= len(line) - 1):\n",
    "        return\n",
    "    for edge in node.edges:\n",
    "        if (edge.letter == line[i]):\n",
    "            return dawgConstructor(edge.node, line, i+1)\n",
    "    node.edges."
   ]
  },
  {
   "cell_type": "code",
   "execution_count": null,
   "metadata": {
    "collapsed": true
   },
   "outputs": [],
   "source": []
  }
 ],
 "metadata": {
  "kernelspec": {
   "display_name": "Python 3",
   "language": "python",
   "name": "python3"
  },
  "language_info": {
   "codemirror_mode": {
    "name": "ipython",
    "version": 3
   },
   "file_extension": ".py",
   "mimetype": "text/x-python",
   "name": "python",
   "nbconvert_exporter": "python",
   "pygments_lexer": "ipython3",
   "version": "3.5.4"
  }
 },
 "nbformat": 4,
 "nbformat_minor": 2
}
