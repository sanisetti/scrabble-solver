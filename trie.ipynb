{
 "cells": [
  {
   "cell_type": "code",
   "execution_count": 1,
   "metadata": {},
   "outputs": [],
   "source": [
    "class trieNode:\n",
    "    def __init__(self, letter, termNode=0, children=[]):\n",
    "        self.letter = letter\n",
    "        self.termNode = termNode\n",
    "        self.children = children"
   ]
  },
  {
   "cell_type": "code",
   "execution_count": 2,
   "metadata": {
    "collapsed": true
   },
   "outputs": [],
   "source": [
    "def trieConstructor(node, i, line):\n",
    "    if (i > len(line)-1):\n",
    "        node.termNode = 1\n",
    "        return\n",
    "    for child in node.children:\n",
    "        if (child.letter == line[i]):\n",
    "            return trieConstructor(child, i+1, line)\n",
    "    node.children.insert(0, trieNode(line[i], termNode=0, children=[]))\n",
    "    return trieConstructor(node.children[0], i+1, line)"
   ]
  },
  {
   "cell_type": "code",
   "execution_count": 3,
   "metadata": {},
   "outputs": [],
   "source": [
    "root = trieNode(None)\n",
    "file = open(\"dictionary.txt\", \"r\")\n",
    "for line in file:\n",
    "    trieConstructor(root, 0, line)\n",
    "file.close()"
   ]
  }
 ],
 "metadata": {
  "kernelspec": {
   "display_name": "Python 3",
   "language": "python",
   "name": "python3"
  },
  "language_info": {
   "codemirror_mode": {
    "name": "ipython",
    "version": 3
   },
   "file_extension": ".py",
   "mimetype": "text/x-python",
   "name": "python",
   "nbconvert_exporter": "python",
   "pygments_lexer": "ipython3",
   "version": "3.5.4"
  }
 },
 "nbformat": 4,
 "nbformat_minor": 2
}
