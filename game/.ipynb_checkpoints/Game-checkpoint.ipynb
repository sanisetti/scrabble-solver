{
 "cells": [
  {
   "cell_type": "code",
   "execution_count": 4,
   "metadata": {},
   "outputs": [],
   "source": [
    "class Player(object):\n",
    "    \n",
    "    def __init__(self):\n",
    "        self.tiles = ['' for i in range(7)]\n",
    "        self.score = 0\n",
    "        "
   ]
  },
  {
   "cell_type": "code",
   "execution_count": 7,
   "metadata": {},
   "outputs": [],
   "source": [
    "class Game(object):\n",
    "    \n",
    "    tile_points = {'a': 1,'b': 3,'c': 3,'d': 2,'e': 1,'f': 4,'g': 2,'h': 4,\n",
    "                   'i': 1,'j': 8,'k': 5,'l': 1,'m': 3,'n': 1,'o': 1,'p': 3,\n",
    "                   'q': 10,'r': 1,'s': 1,'t': 1,'u': 1,'v': 4,'w': 4,'x': 8,\n",
    "                   'y': 4,'z': 10, ' ': 0}\n",
    "    \n",
    "    empty_cell = {'*','0','2','3','@'}\n",
    "    word_multipliers = {'*': 3, '@': 2, '0': 1}\n",
    "    letter_multiplers = {'0': 1, '2': 2, '3': 3}\n",
    "    \n",
    "    def __init__(self, lexicon):\n",
    "        self.player_turn = 0\n",
    "        self.player1_score = 0\n",
    "        self.player2_score = 0\n",
    "        self.tiles_left = {'a': 9,'b': 2,'c': 2,'d': 4,'e': 12,'f': 2,'g': 3,'h': 2,\n",
    "                           'i': 9,'j': 1,'k': 1,'l': 4,'m': 2,'n': 6,'o': 8,'p': 2,\n",
    "                           'q': 1,'r': 6,'s': 4,'t': 6,'u': 4,'v': 2,'w': 2,'x': 1,\n",
    "                           'y': 2,'z': 1,' ': 2}\n",
    "        \n",
    "        self.game_board = [['*','0','0','2','0','0','0','*','0','0','0','2','0','0','*'],\n",
    "                           ['0','@','0','0','0','3','0','0','0','3','0','0','0','@','0'],\n",
    "                           ['0','0','@','0','0','0','2','0','2','0','0','0','@','0','0'],\n",
    "                           ['2','0','0','@','0','0','0','2','0','0','0','@','0','0','2'],\n",
    "                           ['0','0','0','0','@','0','0','0','0','0','@','0','0','0','0'],\n",
    "                           ['0','3','0','0','0','3','0','0','0','3','0','0','0','3','0'],\n",
    "                           ['0','0','2','0','0','0','2','0','2','0','0','0','2','0','0'],\n",
    "                           ['*','0','0','2','0','0','0','@','0','0','0','2','0','0','*'],\n",
    "                           ['0','0','2','0','0','0','2','0','2','0','0','0','2','0','0'],\n",
    "                           ['0','3','0','0','0','3','0','0','0','3','0','0','0','3','0'],\n",
    "                           ['0','0','0','0','@','0','0','0','0','0','@','0','0','0','0'],\n",
    "                           ['2','0','0','@','0','0','0','2','0','0','0','@','0','0','2'],\n",
    "                           ['0','0','@','0','0','0','2','0','2','0','0','0','@','0','0'],\n",
    "                           ['0','@','0','0','0','3','0','0','0','3','0','0','0','@','0'],\n",
    "                           ['*','0','0','2','0','0','0','*','0','0','0','2','0','0','*']]\n",
    "        self.lexicon = lexicon\n",
    "    def validate_move(self, move):\n",
    "        # Check that all tiles are in valid-locations\n",
    "        ### make sure tile is not being placed on a covered square\n",
    "        ### make sure tile is not being placed out of bounds\n",
    "        ### make sure tiles are all in a line (vertical or horizontal)\n",
    "        # Check that all words formed are valid\n",
    "        None\n",
    "    def check_lexicon(self, word):\n",
    "        \n",
    "    def check_horizontal(self, move):\n",
    "        \n",
    "    def check_vertical (self, move):\n",
    "        \n",
    "    def update_board(self, move):\n",
    "        None\n",
    "    \n",
    "    def "
   ]
  },
  {
   "cell_type": "code",
   "execution_count": null,
   "metadata": {
    "collapsed": true
   },
   "outputs": [],
   "source": []
  }
 ],
 "metadata": {
  "kernelspec": {
   "display_name": "Python 3",
   "language": "python",
   "name": "python3"
  },
  "language_info": {
   "codemirror_mode": {
    "name": "ipython",
    "version": 3
   },
   "file_extension": ".py",
   "mimetype": "text/x-python",
   "name": "python",
   "nbconvert_exporter": "python",
   "pygments_lexer": "ipython3",
   "version": "3.5.4"
  }
 },
 "nbformat": 4,
 "nbformat_minor": 2
}
