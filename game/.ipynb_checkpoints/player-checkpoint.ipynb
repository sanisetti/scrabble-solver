{
 "cells": [
  {
   "cell_type": "code",
   "execution_count": null,
   "metadata": {
    "collapsed": true
   },
   "outputs": [],
   "source": [
    "class Player(object):\n",
    "    \n",
    "    def __init__(self):\n",
    "        self.tiles = ['' for i in range(7)]\n",
    "        self.tiles_left = {'a': 9,'b': 2,'c': 2,'d': 4,'e': 12,'f': 2,'g': 3,'h': 2,\n",
    "                           'i': 9,'j': 1,'k': 1,'l': 4,'m': 2,'n': 6,'o': 8,'p': 2,\n",
    "                           'q': 1,'r': 6,'s': 4,'t': 6,'u': 4,'v': 2,'w': 2,'x': 1,\n",
    "                           'y': 2,'z': 1,' ': 2}"
   ]
  }
 ],
 "metadata": {
  "kernelspec": {
   "display_name": "Python 3",
   "language": "python",
   "name": "python3"
  },
  "language_info": {
   "codemirror_mode": {
    "name": "ipython",
    "version": 3
   },
   "file_extension": ".py",
   "mimetype": "text/x-python",
   "name": "python",
   "nbconvert_exporter": "python",
   "pygments_lexer": "ipython3",
   "version": "3.5.4"
  }
 },
 "nbformat": 4,
 "nbformat_minor": 2
}
